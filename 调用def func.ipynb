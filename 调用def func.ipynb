{
 "cells": [
  {
   "cell_type": "code",
   "execution_count": null,
   "metadata": {
    "colab": {
     "base_uri": "https://localhost:8080/"
    },
    "id": "lIYdn1woOS1n",
    "executionInfo": {
     "status": "ok",
     "timestamp": 1675229093834,
     "user_tz": -480,
     "elapsed": 6,
     "user": {
      "displayName": "",
      "userId": ""
     }
    },
    "outputId": "5655ee98-2a73-40e4-8dc7-7d98aa5e982f",
    "pycharm": {
     "name": "#%%\n"
    }
   },
   "outputs": [
    {
     "output_type": "stream",
     "name": "stdout",
     "text": [
      "/content\n"
     ]
    }
   ],
   "source": [
    "!pwd"
   ]
  },
  {
   "cell_type": "code",
   "source": [
    "from google.colab import drive\n",
    "drive.mount('/content/drive')"
   ],
   "metadata": {
    "colab": {
     "base_uri": "https://localhost:8080/"
    },
    "id": "SHWjjJrfb0c2",
    "executionInfo": {
     "status": "ok",
     "timestamp": 1675303602193,
     "user_tz": -480,
     "elapsed": 22008,
     "user": {
      "displayName": "Yixin Zhang",
      "userId": "04669142361252224182"
     }
    },
    "outputId": "9e24db5c-311f-4a3c-9372-0c695dc3c89c",
    "pycharm": {
     "name": "#%%\n"
    }
   },
   "execution_count": 1,
   "outputs": [
    {
     "output_type": "stream",
     "name": "stdout",
     "text": [
      "Mounted at /content/drive\n"
     ]
    }
   ]
  },
  {
   "cell_type": "code",
   "source": [
    "import os\n",
    "os.chdir(\"/content/drive/MyDrive/demo_folder\")\n",
    "\n",
    "os.getcwd()"
   ],
   "metadata": {
    "colab": {
     "base_uri": "https://localhost:8080/",
     "height": 35
    },
    "id": "PNiAKOLDb1gF",
    "executionInfo": {
     "status": "ok",
     "timestamp": 1675303602194,
     "user_tz": -480,
     "elapsed": 11,
     "user": {
      "displayName": "Yixin Zhang",
      "userId": "04669142361252224182"
     }
    },
    "outputId": "22244dbe-4735-4bbe-b54c-345ce1aa7984",
    "pycharm": {
     "name": "#%%\n"
    }
   },
   "execution_count": 2,
   "outputs": [
    {
     "output_type": "execute_result",
     "data": {
      "text/plain": [
       "'/content/drive/MyDrive/demo_folder'"
      ],
      "application/vnd.google.colaboratory.intrinsic+json": {
       "type": "string"
      }
     },
     "metadata": {},
     "execution_count": 2
    }
   ]
  },
  {
   "cell_type": "code",
   "source": [
    "import os\n",
    "import shutil\n",
    "from def_func_demo import ExtractEngageNumber, CountFaceAppear, ImageColorfulPotential, HSVSpaceFeature\n",
    "from def_func_demo import CalculateFg2BgRatio, ColorPercentage, Face2Diagonal, Face2IntersectionPoint, Shoe2Diagonal, Shoe2IntersectionPoint"
   ],
   "metadata": {
    "colab": {
     "base_uri": "https://localhost:8080/",
     "height": 156,
     "referenced_widgets": [
      "826f2d04a398443193d2522c50171f90",
      "e914c7c273624bef91952bacf1a8f184",
      "f4d5dc99d69849bfab373c1f2b3d287a",
      "80d74bcc95ff4e0d957e6508ff4d924f",
      "7ba31468364e4ad7bae091664338d55b",
      "4d4b4d69c87d42d8833f16120249bbcc",
      "c94fc50944f04f51b8bd436c0578cae5",
      "8f3e65823b0b45939acc77279bb6edf9",
      "cef10c907e1e4bfab58cdd6ccf603464",
      "81c29dbd2ec548a6a4f46e4dff33db71",
      "e82272ff52ed408892b0b0ec706c5f6c"
     ]
    },
    "id": "m706QaIIcBPA",
    "executionInfo": {
     "status": "ok",
     "timestamp": 1675303623690,
     "user_tz": -480,
     "elapsed": 21506,
     "user": {
      "displayName": "Yixin Zhang",
      "userId": "04669142361252224182"
     }
    },
    "outputId": "3bf1837d-6eb8-4583-a677-18c837a9b246",
    "pycharm": {
     "name": "#%%\n"
    }
   },
   "execution_count": 3,
   "outputs": [
    {
     "output_type": "stream",
     "name": "stderr",
     "text": [
      "/usr/local/lib/python3.8/dist-packages/torchvision/models/_utils.py:208: UserWarning: The parameter 'pretrained' is deprecated since 0.13 and may be removed in the future, please use 'weights' instead.\n",
      "  warnings.warn(\n",
      "/usr/local/lib/python3.8/dist-packages/torchvision/models/_utils.py:223: UserWarning: Arguments other than a weight enum or `None` for 'weights' are deprecated since 0.13 and may be removed in the future. The current behavior is equivalent to passing `weights=MaskRCNN_ResNet50_FPN_Weights.COCO_V1`. You can also use `weights=MaskRCNN_ResNet50_FPN_Weights.DEFAULT` to get the most up-to-date weights.\n",
      "  warnings.warn(msg)\n",
      "Downloading: \"https://download.pytorch.org/models/maskrcnn_resnet50_fpn_coco-bf2d0c1e.pth\" to /root/.cache/torch/hub/checkpoints/maskrcnn_resnet50_fpn_coco-bf2d0c1e.pth\n"
     ]
    },
    {
     "output_type": "display_data",
     "data": {
      "text/plain": [
       "  0%|          | 0.00/170M [00:00<?, ?B/s]"
      ],
      "application/vnd.jupyter.widget-view+json": {
       "version_major": 2,
       "version_minor": 0,
       "model_id": "826f2d04a398443193d2522c50171f90"
      }
     },
     "metadata": {}
    }
   ]
  },
  {
   "cell_type": "code",
   "source": [
    "post_dir = \"./test_dir/posts\"\n",
    "GV_dir = \"./test_dir/gv_re\"\n",
    "result_output_path = \"/content/sample_data\"\n",
    "cache_save_dir = \"/content/sample_data/cache\""
   ],
   "metadata": {
    "id": "M_u-kuqhcEkY",
    "executionInfo": {
     "status": "ok",
     "timestamp": 1675304544786,
     "user_tz": -480,
     "elapsed": 2,
     "user": {
      "displayName": "Yixin Zhang",
      "userId": "04669142361252224182"
     }
    },
    "pycharm": {
     "name": "#%%\n"
    }
   },
   "execution_count": 19,
   "outputs": []
  },
  {
   "cell_type": "code",
   "source": [
    "for subdir in os.listdir(GV_dir):\n",
    "    subdir_path = os.path.join(GV_dir, subdir)\n",
    "    if os.path.isdir(subdir_path):\n",
    "        CountFaceAppear(subdir_path, result_output_path)\n",
    "        ImageColorfulPotential(subdir_path, result_output_path)\n",
    "        ColorPercentage(subdir_path, result_output_path)"
   ],
   "metadata": {
    "id": "zhzwkHjMcSfi",
    "executionInfo": {
     "status": "ok",
     "timestamp": 1675304562038,
     "user_tz": -480,
     "elapsed": 15762,
     "user": {
      "displayName": "Yixin Zhang",
      "userId": "04669142361252224182"
     }
    },
    "pycharm": {
     "name": "#%%\n"
    }
   },
   "execution_count": 20,
   "outputs": []
  },
  {
   "cell_type": "code",
   "source": [
    "for subdir in os.listdir(post_dir):\n",
    "    subdir_path = os.path.join(post_dir, subdir)\n",
    "    if os.path.isdir(subdir_path):\n",
    "        ExtractEngageNumber(subdir_path, result_output_path)\n",
    "        HSVSpaceFeature(subdir_path, result_output_path)\n",
    "        CalculateFg2BgRatio(subdir_path, cache_save_dir, result_output_path)"
   ],
   "metadata": {
    "id": "SP3JcjdQcUN1",
    "executionInfo": {
     "status": "ok",
     "timestamp": 1675304446243,
     "user_tz": -480,
     "elapsed": 465734,
     "user": {
      "displayName": "Yixin Zhang",
      "userId": "04669142361252224182"
     }
    },
    "pycharm": {
     "name": "#%%\n"
    }
   },
   "execution_count": 16,
   "outputs": []
  },
  {
   "cell_type": "code",
   "source": [
    "for subdir in os.listdir(GV_dir):\n",
    "    subdir_path = os.path.join(GV_dir, subdir)\n",
    "    if os.path.isdir(subdir_path):\n",
    "        Face2Diagonal(subdir_path, post_dir, result_output_path)\n",
    "        Face2IntersectionPoint(subdir_path, post_dir, result_output_path)\n",
    "        Shoe2Diagonal(subdir_path, post_dir, result_output_path)\n",
    "        Shoe2IntersectionPoint(subdir_path, post_dir, result_output_path)"
   ],
   "metadata": {
    "id": "ihkbvBAHccB0",
    "executionInfo": {
     "status": "ok",
     "timestamp": 1675304562808,
     "user_tz": -480,
     "elapsed": 772,
     "user": {
      "displayName": "Yixin Zhang",
      "userId": "04669142361252224182"
     }
    },
    "pycharm": {
     "name": "#%%\n"
    }
   },
   "execution_count": 21,
   "outputs": []
  },
  {
   "cell_type": "code",
   "source": [
    "for filename in os.listdir(result_output_path):\n",
    "    if filename.endswith('.csv'):\n",
    "        end_of_name = filename.split('_')[-1].replace('.csv', '')\n",
    "\n",
    "        sub_directory = os.path.join(result_output_path, end_of_name)\n",
    "        os.makedirs(sub_directory, exist_ok=True)\n",
    "\n",
    "        shutil.move(os.path.join(result_output_path, filename), os.path.join(sub_directory, filename))"
   ],
   "metadata": {
    "id": "Dq9OQDgVceXq",
    "executionInfo": {
     "status": "ok",
     "timestamp": 1675303700648,
     "user_tz": -480,
     "elapsed": 10,
     "user": {
      "displayName": "Yixin Zhang",
      "userId": "04669142361252224182"
     }
    },
    "pycharm": {
     "name": "#%%\n"
    }
   },
   "execution_count": 9,
   "outputs": []
  },
  {
   "cell_type": "code",
   "source": [
    "import csv\n",
    "\n",
    "def write_row(csv_writer, row, num_columns, seen_rows):\n",
    "    if len(row) == num_columns and tuple(row) not in seen_rows:\n",
    "        csv_writer.writerow(row)\n",
    "        seen_rows.add(tuple(row))\n",
    "\n",
    "for sub_directory in os.listdir(result_output_path):\n",
    "    sub_directory_path = os.path.join(result_output_path, sub_directory)\n",
    "\n",
    "    if os.path.isdir(sub_directory_path):\n",
    "        csv_filename = os.path.join(result_output_path, sub_directory + '.csv')\n",
    "        with open(csv_filename, 'w', newline='') as csvfile:\n",
    "            csv_writer = csv.writer(csvfile)\n",
    "            num_columns = None\n",
    "            seen_rows = set()\n",
    "\n",
    "            for file in os.listdir(sub_directory_path):\n",
    "                file_path = os.path.join(sub_directory_path, file)\n",
    "\n",
    "                if file.endswith('.csv'):\n",
    "                    with open(file_path) as f:\n",
    "                        csv_reader = csv.reader(f)\n",
    "\n",
    "                        for row in csv_reader:\n",
    "                            if num_columns is None:\n",
    "                                num_columns = len(row)\n",
    "                            write_row(csv_writer, row, num_columns, seen_rows)\n"
   ],
   "metadata": {
    "id": "w__nYfbrhfJN",
    "executionInfo": {
     "status": "ok",
     "timestamp": 1675303704648,
     "user_tz": -480,
     "elapsed": 4009,
     "user": {
      "displayName": "Yixin Zhang",
      "userId": "04669142361252224182"
     }
    },
    "pycharm": {
     "name": "#%%\n"
    }
   },
   "execution_count": 10,
   "outputs": []
  },
  {
   "cell_type": "code",
   "source": [
    "!pip install pipreqs"
   ],
   "metadata": {
    "colab": {
     "base_uri": "https://localhost:8080/"
    },
    "id": "SazGvJuToqBq",
    "executionInfo": {
     "status": "ok",
     "timestamp": 1675242784827,
     "user_tz": -480,
     "elapsed": 4848,
     "user": {
      "displayName": "",
      "userId": ""
     }
    },
    "outputId": "342ab691-cdf7-416b-91a8-b1eaa4980246",
    "pycharm": {
     "name": "#%%\n"
    }
   },
   "execution_count": null,
   "outputs": [
    {
     "output_type": "stream",
     "name": "stdout",
     "text": [
      "Looking in indexes: https://pypi.org/simple, https://us-python.pkg.dev/colab-wheels/public/simple/\n",
      "Collecting pipreqs\n",
      "  Downloading pipreqs-0.4.11-py2.py3-none-any.whl (32 kB)\n",
      "Collecting docopt\n",
      "  Downloading docopt-0.6.2.tar.gz (25 kB)\n",
      "  Preparing metadata (setup.py) ... \u001B[?25l\u001B[?25hdone\n",
      "Collecting yarg\n",
      "  Downloading yarg-0.1.9-py2.py3-none-any.whl (19 kB)\n",
      "Requirement already satisfied: requests in /usr/local/lib/python3.8/dist-packages (from yarg->pipreqs) (2.25.1)\n",
      "Requirement already satisfied: certifi>=2017.4.17 in /usr/local/lib/python3.8/dist-packages (from requests->yarg->pipreqs) (2022.12.7)\n",
      "Requirement already satisfied: chardet<5,>=3.0.2 in /usr/local/lib/python3.8/dist-packages (from requests->yarg->pipreqs) (4.0.0)\n",
      "Requirement already satisfied: idna<3,>=2.5 in /usr/local/lib/python3.8/dist-packages (from requests->yarg->pipreqs) (2.10)\n",
      "Requirement already satisfied: urllib3<1.27,>=1.21.1 in /usr/local/lib/python3.8/dist-packages (from requests->yarg->pipreqs) (1.24.3)\n",
      "Building wheels for collected packages: docopt\n",
      "  Building wheel for docopt (setup.py) ... \u001B[?25l\u001B[?25hdone\n",
      "  Created wheel for docopt: filename=docopt-0.6.2-py2.py3-none-any.whl size=13723 sha256=54cb1e375da3489a41da005e34772cf641c2c95b1311d59c81a852cc188e32f5\n",
      "  Stored in directory: /root/.cache/pip/wheels/56/ea/58/ead137b087d9e326852a851351d1debf4ada529b6ac0ec4e8c\n",
      "Successfully built docopt\n",
      "Installing collected packages: docopt, yarg, pipreqs\n",
      "Successfully installed docopt-0.6.2 pipreqs-0.4.11 yarg-0.1.9\n"
     ]
    }
   ]
  },
  {
   "cell_type": "code",
   "source": [
    "!pipreqs /content/drive/MyDrive/demo_folder"
   ],
   "metadata": {
    "colab": {
     "base_uri": "https://localhost:8080/"
    },
    "id": "vFUMEoJWoqmT",
    "executionInfo": {
     "status": "ok",
     "timestamp": 1675242788432,
     "user_tz": -480,
     "elapsed": 7,
     "user": {
      "displayName": "",
      "userId": ""
     }
    },
    "outputId": "7aefd94b-d552-40e1-ba8f-706a09417b41",
    "pycharm": {
     "name": "#%%\n"
    }
   },
   "execution_count": null,
   "outputs": [
    {
     "output_type": "stream",
     "name": "stdout",
     "text": [
      "WARNING: requirements.txt already exists, use --force to overwrite it\n"
     ]
    }
   ]
  }
 ],
 "metadata": {
  "colab": {
   "provenance": [
    {
     "file_id": "/v2/external/notebooks/empty.ipynb",
     "timestamp": 1675246391516
    }
   ]
  },
  "kernelspec": {
   "display_name": "Python 3",
   "name": "python3"
  },
  "widgets": {
   "application/vnd.jupyter.widget-state+json": {
    "826f2d04a398443193d2522c50171f90": {
     "model_module": "@jupyter-widgets/controls",
     "model_name": "HBoxModel",
     "model_module_version": "1.5.0",
     "state": {
      "_dom_classes": [],
      "_model_module": "@jupyter-widgets/controls",
      "_model_module_version": "1.5.0",
      "_model_name": "HBoxModel",
      "_view_count": null,
      "_view_module": "@jupyter-widgets/controls",
      "_view_module_version": "1.5.0",
      "_view_name": "HBoxView",
      "box_style": "",
      "children": [
       "IPY_MODEL_e914c7c273624bef91952bacf1a8f184",
       "IPY_MODEL_f4d5dc99d69849bfab373c1f2b3d287a",
       "IPY_MODEL_80d74bcc95ff4e0d957e6508ff4d924f"
      ],
      "layout": "IPY_MODEL_7ba31468364e4ad7bae091664338d55b"
     }
    },
    "e914c7c273624bef91952bacf1a8f184": {
     "model_module": "@jupyter-widgets/controls",
     "model_name": "HTMLModel",
     "model_module_version": "1.5.0",
     "state": {
      "_dom_classes": [],
      "_model_module": "@jupyter-widgets/controls",
      "_model_module_version": "1.5.0",
      "_model_name": "HTMLModel",
      "_view_count": null,
      "_view_module": "@jupyter-widgets/controls",
      "_view_module_version": "1.5.0",
      "_view_name": "HTMLView",
      "description": "",
      "description_tooltip": null,
      "layout": "IPY_MODEL_4d4b4d69c87d42d8833f16120249bbcc",
      "placeholder": "​",
      "style": "IPY_MODEL_c94fc50944f04f51b8bd436c0578cae5",
      "value": "100%"
     }
    },
    "f4d5dc99d69849bfab373c1f2b3d287a": {
     "model_module": "@jupyter-widgets/controls",
     "model_name": "FloatProgressModel",
     "model_module_version": "1.5.0",
     "state": {
      "_dom_classes": [],
      "_model_module": "@jupyter-widgets/controls",
      "_model_module_version": "1.5.0",
      "_model_name": "FloatProgressModel",
      "_view_count": null,
      "_view_module": "@jupyter-widgets/controls",
      "_view_module_version": "1.5.0",
      "_view_name": "ProgressView",
      "bar_style": "success",
      "description": "",
      "description_tooltip": null,
      "layout": "IPY_MODEL_8f3e65823b0b45939acc77279bb6edf9",
      "max": 178090079,
      "min": 0,
      "orientation": "horizontal",
      "style": "IPY_MODEL_cef10c907e1e4bfab58cdd6ccf603464",
      "value": 178090079
     }
    },
    "80d74bcc95ff4e0d957e6508ff4d924f": {
     "model_module": "@jupyter-widgets/controls",
     "model_name": "HTMLModel",
     "model_module_version": "1.5.0",
     "state": {
      "_dom_classes": [],
      "_model_module": "@jupyter-widgets/controls",
      "_model_module_version": "1.5.0",
      "_model_name": "HTMLModel",
      "_view_count": null,
      "_view_module": "@jupyter-widgets/controls",
      "_view_module_version": "1.5.0",
      "_view_name": "HTMLView",
      "description": "",
      "description_tooltip": null,
      "layout": "IPY_MODEL_81c29dbd2ec548a6a4f46e4dff33db71",
      "placeholder": "​",
      "style": "IPY_MODEL_e82272ff52ed408892b0b0ec706c5f6c",
      "value": " 170M/170M [00:08&lt;00:00, 22.9MB/s]"
     }
    },
    "7ba31468364e4ad7bae091664338d55b": {
     "model_module": "@jupyter-widgets/base",
     "model_name": "LayoutModel",
     "model_module_version": "1.2.0",
     "state": {
      "_model_module": "@jupyter-widgets/base",
      "_model_module_version": "1.2.0",
      "_model_name": "LayoutModel",
      "_view_count": null,
      "_view_module": "@jupyter-widgets/base",
      "_view_module_version": "1.2.0",
      "_view_name": "LayoutView",
      "align_content": null,
      "align_items": null,
      "align_self": null,
      "border": null,
      "bottom": null,
      "display": null,
      "flex": null,
      "flex_flow": null,
      "grid_area": null,
      "grid_auto_columns": null,
      "grid_auto_flow": null,
      "grid_auto_rows": null,
      "grid_column": null,
      "grid_gap": null,
      "grid_row": null,
      "grid_template_areas": null,
      "grid_template_columns": null,
      "grid_template_rows": null,
      "height": null,
      "justify_content": null,
      "justify_items": null,
      "left": null,
      "margin": null,
      "max_height": null,
      "max_width": null,
      "min_height": null,
      "min_width": null,
      "object_fit": null,
      "object_position": null,
      "order": null,
      "overflow": null,
      "overflow_x": null,
      "overflow_y": null,
      "padding": null,
      "right": null,
      "top": null,
      "visibility": null,
      "width": null
     }
    },
    "4d4b4d69c87d42d8833f16120249bbcc": {
     "model_module": "@jupyter-widgets/base",
     "model_name": "LayoutModel",
     "model_module_version": "1.2.0",
     "state": {
      "_model_module": "@jupyter-widgets/base",
      "_model_module_version": "1.2.0",
      "_model_name": "LayoutModel",
      "_view_count": null,
      "_view_module": "@jupyter-widgets/base",
      "_view_module_version": "1.2.0",
      "_view_name": "LayoutView",
      "align_content": null,
      "align_items": null,
      "align_self": null,
      "border": null,
      "bottom": null,
      "display": null,
      "flex": null,
      "flex_flow": null,
      "grid_area": null,
      "grid_auto_columns": null,
      "grid_auto_flow": null,
      "grid_auto_rows": null,
      "grid_column": null,
      "grid_gap": null,
      "grid_row": null,
      "grid_template_areas": null,
      "grid_template_columns": null,
      "grid_template_rows": null,
      "height": null,
      "justify_content": null,
      "justify_items": null,
      "left": null,
      "margin": null,
      "max_height": null,
      "max_width": null,
      "min_height": null,
      "min_width": null,
      "object_fit": null,
      "object_position": null,
      "order": null,
      "overflow": null,
      "overflow_x": null,
      "overflow_y": null,
      "padding": null,
      "right": null,
      "top": null,
      "visibility": null,
      "width": null
     }
    },
    "c94fc50944f04f51b8bd436c0578cae5": {
     "model_module": "@jupyter-widgets/controls",
     "model_name": "DescriptionStyleModel",
     "model_module_version": "1.5.0",
     "state": {
      "_model_module": "@jupyter-widgets/controls",
      "_model_module_version": "1.5.0",
      "_model_name": "DescriptionStyleModel",
      "_view_count": null,
      "_view_module": "@jupyter-widgets/base",
      "_view_module_version": "1.2.0",
      "_view_name": "StyleView",
      "description_width": ""
     }
    },
    "8f3e65823b0b45939acc77279bb6edf9": {
     "model_module": "@jupyter-widgets/base",
     "model_name": "LayoutModel",
     "model_module_version": "1.2.0",
     "state": {
      "_model_module": "@jupyter-widgets/base",
      "_model_module_version": "1.2.0",
      "_model_name": "LayoutModel",
      "_view_count": null,
      "_view_module": "@jupyter-widgets/base",
      "_view_module_version": "1.2.0",
      "_view_name": "LayoutView",
      "align_content": null,
      "align_items": null,
      "align_self": null,
      "border": null,
      "bottom": null,
      "display": null,
      "flex": null,
      "flex_flow": null,
      "grid_area": null,
      "grid_auto_columns": null,
      "grid_auto_flow": null,
      "grid_auto_rows": null,
      "grid_column": null,
      "grid_gap": null,
      "grid_row": null,
      "grid_template_areas": null,
      "grid_template_columns": null,
      "grid_template_rows": null,
      "height": null,
      "justify_content": null,
      "justify_items": null,
      "left": null,
      "margin": null,
      "max_height": null,
      "max_width": null,
      "min_height": null,
      "min_width": null,
      "object_fit": null,
      "object_position": null,
      "order": null,
      "overflow": null,
      "overflow_x": null,
      "overflow_y": null,
      "padding": null,
      "right": null,
      "top": null,
      "visibility": null,
      "width": null
     }
    },
    "cef10c907e1e4bfab58cdd6ccf603464": {
     "model_module": "@jupyter-widgets/controls",
     "model_name": "ProgressStyleModel",
     "model_module_version": "1.5.0",
     "state": {
      "_model_module": "@jupyter-widgets/controls",
      "_model_module_version": "1.5.0",
      "_model_name": "ProgressStyleModel",
      "_view_count": null,
      "_view_module": "@jupyter-widgets/base",
      "_view_module_version": "1.2.0",
      "_view_name": "StyleView",
      "bar_color": null,
      "description_width": ""
     }
    },
    "81c29dbd2ec548a6a4f46e4dff33db71": {
     "model_module": "@jupyter-widgets/base",
     "model_name": "LayoutModel",
     "model_module_version": "1.2.0",
     "state": {
      "_model_module": "@jupyter-widgets/base",
      "_model_module_version": "1.2.0",
      "_model_name": "LayoutModel",
      "_view_count": null,
      "_view_module": "@jupyter-widgets/base",
      "_view_module_version": "1.2.0",
      "_view_name": "LayoutView",
      "align_content": null,
      "align_items": null,
      "align_self": null,
      "border": null,
      "bottom": null,
      "display": null,
      "flex": null,
      "flex_flow": null,
      "grid_area": null,
      "grid_auto_columns": null,
      "grid_auto_flow": null,
      "grid_auto_rows": null,
      "grid_column": null,
      "grid_gap": null,
      "grid_row": null,
      "grid_template_areas": null,
      "grid_template_columns": null,
      "grid_template_rows": null,
      "height": null,
      "justify_content": null,
      "justify_items": null,
      "left": null,
      "margin": null,
      "max_height": null,
      "max_width": null,
      "min_height": null,
      "min_width": null,
      "object_fit": null,
      "object_position": null,
      "order": null,
      "overflow": null,
      "overflow_x": null,
      "overflow_y": null,
      "padding": null,
      "right": null,
      "top": null,
      "visibility": null,
      "width": null
     }
    },
    "e82272ff52ed408892b0b0ec706c5f6c": {
     "model_module": "@jupyter-widgets/controls",
     "model_name": "DescriptionStyleModel",
     "model_module_version": "1.5.0",
     "state": {
      "_model_module": "@jupyter-widgets/controls",
      "_model_module_version": "1.5.0",
      "_model_name": "DescriptionStyleModel",
      "_view_count": null,
      "_view_module": "@jupyter-widgets/base",
      "_view_module_version": "1.2.0",
      "_view_name": "StyleView",
      "description_width": ""
     }
    }
   }
  }
 },
 "nbformat": 4,
 "nbformat_minor": 0
}